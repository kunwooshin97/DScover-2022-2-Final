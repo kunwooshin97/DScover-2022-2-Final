{
 "cells": [
  {
   "cell_type": "code",
   "execution_count": 109,
   "id": "9526597b",
   "metadata": {},
   "outputs": [],
   "source": [
    "final_df = pd.read_excel('movie_link.xlsx') # 네이버 API로 받은 영화리뷰 링크"
   ]
  },
  {
   "cell_type": "code",
   "execution_count": 110,
   "id": "82681c9e",
   "metadata": {},
   "outputs": [],
   "source": [
    "# 각 영화리뷰페이지 링크에서 영화코드 추출\n",
    "import re\n",
    "movie_link = final_df.loc[:,('title','link')]\n",
    "movie_link['code'] = [re.sub(r'[^0-9]','',x) for x in movie_link['link']]"
   ]
  },
  {
   "cell_type": "code",
   "execution_count": 111,
   "id": "026b71bb",
   "metadata": {},
   "outputs": [
    {
     "data": {
      "text/html": [
       "<div>\n",
       "<style scoped>\n",
       "    .dataframe tbody tr th:only-of-type {\n",
       "        vertical-align: middle;\n",
       "    }\n",
       "\n",
       "    .dataframe tbody tr th {\n",
       "        vertical-align: top;\n",
       "    }\n",
       "\n",
       "    .dataframe thead th {\n",
       "        text-align: right;\n",
       "    }\n",
       "</style>\n",
       "<table border=\"1\" class=\"dataframe\">\n",
       "  <thead>\n",
       "    <tr style=\"text-align: right;\">\n",
       "      <th></th>\n",
       "      <th>title</th>\n",
       "      <th>link</th>\n",
       "      <th>code</th>\n",
       "    </tr>\n",
       "  </thead>\n",
       "  <tbody>\n",
       "    <tr>\n",
       "      <th>0</th>\n",
       "      <td>베테랑</td>\n",
       "      <td>https://movie.naver.com/movie/bi/mi/basic.nhn?...</td>\n",
       "      <td>115977</td>\n",
       "    </tr>\n",
       "    <tr>\n",
       "      <th>1</th>\n",
       "      <td>암살</td>\n",
       "      <td>https://movie.naver.com/movie/bi/mi/basic.nhn?...</td>\n",
       "      <td>121048</td>\n",
       "    </tr>\n",
       "    <tr>\n",
       "      <th>2</th>\n",
       "      <td>어벤져스: 에이지 오브 울트론</td>\n",
       "      <td>https://movie.naver.com/movie/bi/mi/basic.nhn?...</td>\n",
       "      <td>98438</td>\n",
       "    </tr>\n",
       "    <tr>\n",
       "      <th>3</th>\n",
       "      <td>히말라야</td>\n",
       "      <td>https://movie.naver.com/movie/bi/mi/basic.nhn?...</td>\n",
       "      <td>100647</td>\n",
       "    </tr>\n",
       "    <tr>\n",
       "      <th>4</th>\n",
       "      <td>내부자들</td>\n",
       "      <td>https://movie.naver.com/movie/bi/mi/basic.nhn?...</td>\n",
       "      <td>121788</td>\n",
       "    </tr>\n",
       "  </tbody>\n",
       "</table>\n",
       "</div>"
      ],
      "text/plain": [
       "              title                                               link    code\n",
       "0               베테랑  https://movie.naver.com/movie/bi/mi/basic.nhn?...  115977\n",
       "1                암살  https://movie.naver.com/movie/bi/mi/basic.nhn?...  121048\n",
       "2  어벤져스: 에이지 오브 울트론  https://movie.naver.com/movie/bi/mi/basic.nhn?...   98438\n",
       "3              히말라야  https://movie.naver.com/movie/bi/mi/basic.nhn?...  100647\n",
       "4              내부자들  https://movie.naver.com/movie/bi/mi/basic.nhn?...  121788"
      ]
     },
     "execution_count": 111,
     "metadata": {},
     "output_type": "execute_result"
    }
   ],
   "source": [
    "movie_link.head()"
   ]
  },
  {
   "cell_type": "markdown",
   "id": "82e1e177",
   "metadata": {},
   "source": [
    "TEST: 베테랑 리뷰 20개 추출 (오래된 순)"
   ]
  },
  {
   "cell_type": "code",
   "execution_count": 124,
   "id": "784c55be",
   "metadata": {},
   "outputs": [],
   "source": [
    "from bs4 import BeautifulSoup\n",
    "import requests\n",
    "import time\n",
    "\n",
    "title = '암살'\n",
    "code = 121048\n",
    "url = (\"https://movie.naver.com/movie/bi/mi/pointWriteFormList.naver?\"\n",
    "       +\"code=\"+str(code)\n",
    "       +\"&type=after&onlyActualPointYn=N&onlySpoilerPointYn=N\")\n",
    "\n",
    "# 총 리뷰 개수 뽑기\n",
    "response = requests.get(url)\n",
    "html_text = response.text\n",
    "soup = BeautifulSoup(html_text, 'html.parser')\n",
    "\n",
    "num = int(soup.select(\"div.score_total > strong > em\")[0].text.replace(',',''))\n",
    "\n",
    "# 리뷰 개수 39,477인 경우 3943, 3944가 마지막 두 페이지 (테스트로 리뷰 20개 뽑기)\n",
    "# 3945 페이지에는 39477을 10으로 나눈 나머지인 7개의 리뷰가 있음\n",
    "page_lst = list(range(num//10-1,num//10+1))"
   ]
  },
  {
   "cell_type": "code",
   "execution_count": 125,
   "id": "ef6568e2",
   "metadata": {},
   "outputs": [
    {
     "data": {
      "text/plain": [
       "[3962, 3963]"
      ]
     },
     "execution_count": 125,
     "metadata": {},
     "output_type": "execute_result"
    }
   ],
   "source": [
    "page_lst"
   ]
  },
  {
   "cell_type": "code",
   "execution_count": 142,
   "id": "9b7db0e2",
   "metadata": {},
   "outputs": [],
   "source": [
    "movie_review_df = pd.DataFrame(columns=(\"title\", \"score\", \"review\"))"
   ]
  },
  {
   "cell_type": "code",
   "execution_count": 143,
   "id": "caa2a0d4",
   "metadata": {},
   "outputs": [],
   "source": [
    "# 각 페이지 별로 리뷰, 별점 추출\n",
    "review = []\n",
    "score = []\n",
    "\n",
    "for page_num in page_lst:\n",
    "    code = 121048\n",
    "    url = (\"https://movie.naver.com/movie/bi/mi/pointWriteFormList.naver?\"\n",
    "           +\"code=\"+str(code)\n",
    "           +\"&type=after&onlyActualPointYn=N&onlySpoilerPointYn=N\"\n",
    "           +\"&order=newest\"\n",
    "           +\"&page=\"+str(page_num)\n",
    "           )\n",
    "    response = requests.get(url)\n",
    "    html_text = response.text\n",
    "    soup = BeautifulSoup(html_text, 'html.parser')\n",
    "\n",
    "    \n",
    "    # 리뷰 추출\n",
    "    review_lst = soup.select(\"div.score_reple > p\")\n",
    "    for elem in review_lst:\n",
    "        review.append(elem.text.replace('\\n','').replace('\\t',''))\n",
    "        \n",
    "    # 별점 추출 ()\n",
    "    score_lst = soup.select(\"div.star_score > em\")\n",
    "    for elem2 in score_lst:\n",
    "        score.append(int(elem2.text))\n",
    "    \n",
    "    time.sleep(1)"
   ]
  },
  {
   "cell_type": "code",
   "execution_count": 144,
   "id": "4e9026f0",
   "metadata": {},
   "outputs": [
    {
     "data": {
      "text/plain": [
       "20"
      ]
     },
     "execution_count": 144,
     "metadata": {},
     "output_type": "execute_result"
    }
   ],
   "source": [
    "len(score)"
   ]
  },
  {
   "cell_type": "code",
   "execution_count": 145,
   "id": "40340e81",
   "metadata": {},
   "outputs": [],
   "source": [
    "# 데이터 프레임에 저장\n",
    "movie_review_df['review'] = review\n",
    "movie_review_df['score'] = score\n",
    "movie_review_df['title'] = title\n",
    "\n",
    "movie_review_df.to_excel(title+'_review.xlsx')"
   ]
  },
  {
   "cell_type": "markdown",
   "id": "916a36c3",
   "metadata": {},
   "source": [
    "## 영화 리뷰/별점 추출 코드"
   ]
  },
  {
   "cell_type": "code",
   "execution_count": 146,
   "id": "90412a24",
   "metadata": {},
   "outputs": [],
   "source": [
    "from bs4 import BeautifulSoup\n",
    "import requests\n",
    "import time\n",
    "\n",
    "def movie_reviews(title, code, page_num=2):\n",
    "    movie_review_df = pd.DataFrame(columns=(\"title\", \"score\", \"review\"))\n",
    "    url = (\"https://movie.naver.com/movie/bi/mi/pointWriteFormList.naver?\"\n",
    "       +\"code=\"+str(code)\n",
    "       +\"&type=after&onlyActualPointYn=N&onlySpoilerPointYn=N\")\n",
    "\n",
    "    # 총 리뷰 개수 뽑기\n",
    "    response = requests.get(url)\n",
    "    html_text = response.text\n",
    "    soup = BeautifulSoup(html_text, 'html.parser')\n",
    "\n",
    "    num = int(soup.select(\"div.score_total > strong > em\")[0].text.replace(',',''))\n",
    "\n",
    "    # 리뷰 개수 39,477인 경우 3943, 3944가 마지막 두 페이지 (테스트로 리뷰 20개 뽑기)\n",
    "    # 3945 페이지에는 39477을 10으로 나눈 나머지인 7개의 리뷰가 있음\n",
    "    page_lst = list(range(num//10-page_num+1,num//10+1))\n",
    "    \n",
    "    \n",
    "    # 각 페이지 별로 리뷰, 별점 추출\n",
    "    review = []\n",
    "    score = []\n",
    "\n",
    "    for page in page_lst:\n",
    "        url = (\"https://movie.naver.com/movie/bi/mi/pointWriteFormList.naver?\"\n",
    "               +\"code=\"+str(code)\n",
    "               +\"&type=after&onlyActualPointYn=N&onlySpoilerPointYn=N\"\n",
    "               +\"&order=newest\"\n",
    "               +\"&page=\"+str(page)\n",
    "               )\n",
    "        response = requests.get(url)\n",
    "        html_text = response.text\n",
    "        soup = BeautifulSoup(html_text, 'html.parser')\n",
    "\n",
    "        # 리뷰 추출\n",
    "        review_lst = soup.select(\"div.score_reple > p\")\n",
    "        for elem in review_lst:\n",
    "            review.append(elem.text.replace('\\n','').replace('\\t',''))\n",
    "\n",
    "        # 별점 추출 ()\n",
    "        score_lst = soup.select(\"div.star_score > em\")\n",
    "        for elem2 in score_lst:\n",
    "            score.append(int(elem2.text))\n",
    "\n",
    "        time.sleep(1)\n",
    "        \n",
    "    movie_review_df['review'] = review\n",
    "    movie_review_df['score'] = score\n",
    "    movie_review_df['title'] = title\n",
    "\n",
    "    movie_review_df.to_excel(title+'_review.xlsx')\n",
    "    \n",
    "# 영화 3개 테스트\n",
    "for i in range(3): \n",
    "    title, link, code = movie_link.iloc[i]\n",
    "    # 영화 제목과 code 입력하면 영화별 엑셀파일 만듦.\n",
    "    movie_reviews(title, code)"
   ]
  },
  {
   "cell_type": "code",
   "execution_count": null,
   "id": "56a2286b",
   "metadata": {},
   "outputs": [],
   "source": []
  }
 ],
 "metadata": {
  "kernelspec": {
   "display_name": "Python 3 (ipykernel)",
   "language": "python",
   "name": "python3"
  },
  "language_info": {
   "codemirror_mode": {
    "name": "ipython",
    "version": 3
   },
   "file_extension": ".py",
   "mimetype": "text/x-python",
   "name": "python",
   "nbconvert_exporter": "python",
   "pygments_lexer": "ipython3",
   "version": "3.10.6"
  }
 },
 "nbformat": 4,
 "nbformat_minor": 5
}
