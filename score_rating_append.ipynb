{
 "cells": [
  {
   "cell_type": "code",
   "execution_count": 5,
   "id": "e3330a1f",
   "metadata": {},
   "outputs": [],
   "source": [
    "import pandas as pd\n",
    "import numpy as np"
   ]
  },
  {
   "cell_type": "code",
   "execution_count": 2,
   "id": "1fb54c3b",
   "metadata": {},
   "outputs": [
    {
     "name": "stdout",
     "output_type": "stream",
     "text": [
      "Requirement already satisfied: openpyxl in /Users/kunwooshin/miniforge3/envs/tensorflow/lib/python3.8/site-packages (3.0.10)\n",
      "Requirement already satisfied: et-xmlfile in /Users/kunwooshin/miniforge3/envs/tensorflow/lib/python3.8/site-packages (from openpyxl) (1.1.0)\n",
      "Note: you may need to restart the kernel to use updated packages.\n"
     ]
    }
   ],
   "source": [
    "pip install openpyxl"
   ]
  },
  {
   "cell_type": "code",
   "execution_count": 7,
   "id": "c06d4f27",
   "metadata": {},
   "outputs": [],
   "source": [
    "import os\n",
    "\n",
    "dir_path = \"/Users/kunwooshin/movie_scraping/review_file\"\n",
    "\n",
    "review_lst = []\n",
    "\n",
    "for (root, directories, files) in os.walk(dir_path):\n",
    "    for d in directories:\n",
    "        d_path = os.path.join(root, d)\n",
    "        print(d_path)\n",
    "\n",
    "    for file in files:\n",
    "        file_path = os.path.join(root, file)\n",
    "        review_lst.append(file_path)"
   ]
  },
  {
   "cell_type": "code",
   "execution_count": 11,
   "id": "e7cbf4b6",
   "metadata": {},
   "outputs": [],
   "source": [
    "review_lst.remove('/Users/kunwooshin/movie_scraping/review_file/.DS_Store')"
   ]
  },
  {
   "cell_type": "code",
   "execution_count": 13,
   "id": "1c968adb",
   "metadata": {},
   "outputs": [
    {
     "data": {
      "text/plain": [
       "189"
      ]
     },
     "execution_count": 13,
     "metadata": {},
     "output_type": "execute_result"
    }
   ],
   "source": [
    "len(review_lst)"
   ]
  },
  {
   "cell_type": "code",
   "execution_count": 14,
   "id": "a95e16fe",
   "metadata": {},
   "outputs": [],
   "source": [
    "total = pd.DataFrame()"
   ]
  },
  {
   "cell_type": "code",
   "execution_count": 15,
   "id": "877eb187",
   "metadata": {},
   "outputs": [],
   "source": [
    "review = pd.read_excel(review_lst[0])"
   ]
  },
  {
   "cell_type": "code",
   "execution_count": 16,
   "id": "f2087d65",
   "metadata": {},
   "outputs": [
    {
     "data": {
      "text/plain": [
       "7.7272"
      ]
     },
     "execution_count": 16,
     "metadata": {},
     "output_type": "execute_result"
    }
   ],
   "source": [
    "np.mean(review['score'])"
   ]
  },
  {
   "cell_type": "code",
   "execution_count": 17,
   "id": "de5735e3",
   "metadata": {},
   "outputs": [],
   "source": [
    "score_lst = []\n",
    "name_lst = []\n",
    "\n",
    "for elem in review_lst:\n",
    "    df = pd.read_excel(elem, engine='openpyxl')\n",
    "    score = np.mean(df['score'])\n",
    "    name = elem.replace('/Users/kunwooshin/movie_scraping/review_file/','').replace('_review.xlsx','')\n",
    "    score_lst.append(score)\n",
    "    name_lst.append(name)"
   ]
  },
  {
   "cell_type": "code",
   "execution_count": 18,
   "id": "64ad4766",
   "metadata": {},
   "outputs": [],
   "source": [
    "total['score'] = score_lst\n",
    "total['name'] = name_lst"
   ]
  },
  {
   "cell_type": "code",
   "execution_count": 3,
   "id": "f0cbc7d0",
   "metadata": {},
   "outputs": [
    {
     "ename": "NameError",
     "evalue": "name 'total' is not defined",
     "output_type": "error",
     "traceback": [
      "\u001b[0;31m---------------------------------------------------------------------------\u001b[0m",
      "\u001b[0;31mNameError\u001b[0m                                 Traceback (most recent call last)",
      "Cell \u001b[0;32mIn [3], line 1\u001b[0m\n\u001b[0;32m----> 1\u001b[0m \u001b[43mtotal\u001b[49m\n",
      "\u001b[0;31mNameError\u001b[0m: name 'total' is not defined"
     ]
    }
   ],
   "source": [
    "total"
   ]
  },
  {
   "cell_type": "code",
   "execution_count": 28,
   "id": "1f2983f3",
   "metadata": {},
   "outputs": [],
   "source": [
    "total.sort_values(by=['name'], inplace=True)"
   ]
  },
  {
   "cell_type": "code",
   "execution_count": 30,
   "id": "e4855179",
   "metadata": {},
   "outputs": [],
   "source": [
    "total.to_csv('mean_score.csv', index=False)"
   ]
  },
  {
   "cell_type": "code",
   "execution_count": null,
   "id": "83b6870f",
   "metadata": {},
   "outputs": [],
   "source": []
  }
 ],
 "metadata": {
  "kernelspec": {
   "display_name": "Python 3 (ipykernel)",
   "language": "python",
   "name": "python3"
  },
  "language_info": {
   "codemirror_mode": {
    "name": "ipython",
    "version": 3
   },
   "file_extension": ".py",
   "mimetype": "text/x-python",
   "name": "python",
   "nbconvert_exporter": "python",
   "pygments_lexer": "ipython3",
   "version": "3.8.13"
  }
 },
 "nbformat": 4,
 "nbformat_minor": 5
}
